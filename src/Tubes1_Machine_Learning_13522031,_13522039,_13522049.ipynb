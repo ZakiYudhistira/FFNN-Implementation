{
  "nbformat": 4,
  "nbformat_minor": 0,
  "metadata": {
    "colab": {
      "provenance": []
    },
    "kernelspec": {
      "name": "python3",
      "display_name": "Python 3"
    },
    "language_info": {
      "name": "python"
    }
  },
  "cells": [
    {
      "cell_type": "code",
      "execution_count": null,
      "metadata": {
        "colab": {
          "base_uri": "https://localhost:8080/"
        },
        "id": "bldvDCHcpia2",
        "outputId": "bfbb63d8-8ba1-4dc9-8dc6-f88febd97ce5"
      },
      "outputs": [
        {
          "output_type": "stream",
          "name": "stdout",
          "text": [
            "Loading MNIST dataset...\n",
            "Training MLPClassifier (ANN)...\n"
          ]
        },
        {
          "output_type": "stream",
          "name": "stderr",
          "text": [
            "/usr/local/lib/python3.11/dist-packages/sklearn/neural_network/_multilayer_perceptron.py:691: ConvergenceWarning: Stochastic Optimizer: Maximum iterations (5) reached and the optimization hasn't converged yet.\n",
            "  warnings.warn(\n"
          ]
        },
        {
          "output_type": "stream",
          "name": "stdout",
          "text": [
            "\n",
            "📉 MSE on MNIST with MLPClassifier: 0.090010\n"
          ]
        }
      ],
      "source": [
        "from sklearn.datasets import fetch_openml\n",
        "from sklearn.model_selection import train_test_split\n",
        "from sklearn.preprocessing import LabelBinarizer\n",
        "from sklearn.neural_network import MLPClassifier\n",
        "from sklearn.metrics import mean_squared_error\n",
        "import numpy as np\n",
        "\n",
        "# --- Step 1: Load and Preprocess Dataset ---\n",
        "print(\"Loading MNIST dataset...\")\n",
        "X, y = fetch_openml('mnist_784', version=1, return_X_y=True, as_frame=False)\n",
        "X = X / 255.0  # Normalize pixel values\n",
        "\n",
        "# One-hot encode labels for MSE calculation\n",
        "label_binarizer = LabelBinarizer()\n",
        "y_onehot = label_binarizer.fit_transform(y.astype(str))\n",
        "\n",
        "# Split into train and test sets\n",
        "X_train, X_test, y_train, y_test = train_test_split(X, y_onehot, test_size=0.2, random_state=42)\n",
        "\n",
        "# --- Step 2: Train an MLPClassifier (regular ANN) ---\n",
        "print(\"Training MLPClassifier (ANN)...\")\n",
        "mlp = MLPClassifier(\n",
        "    hidden_layer_sizes=(128,) * 10,   # 10 hidden layers with 128 neurons each\n",
        "    activation='logistic',            # sigmoid activation\n",
        "    solver='sgd',\n",
        "    learning_rate_init=0.01,\n",
        "    alpha=0.0001,                     # L2 regularization (default)\n",
        "    max_iter=5,\n",
        "    random_state=42\n",
        ")\n",
        "\n",
        "mlp.fit(X_train, y_train.argmax(axis=1))  # Use class labels, not one-hot\n",
        "\n",
        "# --- Step 3: Predict and Evaluate ---\n",
        "y_pred_prob = mlp.predict_proba(X_test)   # Returns probabilities (for MSE)\n",
        "mse = mean_squared_error(y_test, y_pred_prob)\n",
        "print(f\"\\n📉 MSE on MNIST with MLPClassifier: {mse:.6f}\")\n"
      ]
    },
    {
      "cell_type": "code",
      "source": [],
      "metadata": {
        "id": "3deKR7PHsCmk"
      },
      "execution_count": null,
      "outputs": []
    }
  ]
}